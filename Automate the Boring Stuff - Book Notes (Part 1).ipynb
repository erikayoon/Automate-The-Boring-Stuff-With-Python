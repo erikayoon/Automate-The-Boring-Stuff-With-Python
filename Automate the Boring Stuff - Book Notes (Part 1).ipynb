{
 "cells": [
  {
   "cell_type": "markdown",
   "metadata": {},
   "source": [
    "# Automate The Boring Stuff - Al Sweigart"
   ]
  },
  {
   "cell_type": "markdown",
   "metadata": {},
   "source": [
    "##### Helpful Tools\n",
    "[Python Tutor](http://pythontutor.com/visualize.html#mode=edit) - Helps visualize Python variables and loop flows"
   ]
  },
  {
   "cell_type": "markdown",
   "metadata": {},
   "source": [
    "## Part 1: Python Programming Basics\n",
    "___\n",
    "### Break and Continue Statements"
   ]
  },
  {
   "cell_type": "markdown",
   "metadata": {},
   "source": [
    "**Break Statements**\n",
    "\n",
    "Causes the execution to immediately jump out of a loop. \n",
    "\n",
    "If the example below did not include a `break` statement within the loop, it would be an \"infinite loop\", which you could exit out of with `ctrl + c`. With the `break` statement included, the loop will continue until `name == 'your name'` is satisfied. "
   ]
  },
  {
   "cell_type": "code",
   "execution_count": null,
   "metadata": {},
   "outputs": [],
   "source": [
    "name = ''\n",
    "while True:\n",
    "    print('Please type your name.')\n",
    "    name = input()\n",
    "    if name == 'your name':\n",
    "        break\n",
    "print('Thank you')"
   ]
  },
  {
   "cell_type": "markdown",
   "metadata": {},
   "source": [
    "**Continue Statement**\n",
    "\n",
    "Causes the execution to immediately start from the beginning of the loop and reevaluate the loop's condition. \n",
    "\n",
    "Notice how in the example below, the line with `3` is missing. This is because when spam = 3, the `continue` statement is reached, so the loop immediately starts over from the beginning with the next iteration. "
   ]
  },
  {
   "cell_type": "code",
   "execution_count": null,
   "metadata": {},
   "outputs": [],
   "source": [
    "spam = 0\n",
    "while spam < 5:\n",
    "    spam = spam + 1\n",
    "    if spam == 3:\n",
    "        continue\n",
    "    print('spam is ' + str(spam))"
   ]
  },
  {
   "cell_type": "markdown",
   "metadata": {},
   "source": [
    "### For Loops"
   ]
  },
  {
   "cell_type": "markdown",
   "metadata": {},
   "source": [
    "**Range() Method**\n",
    "\n",
    "The `range()` method is most commonly used in a `for loop` because it is used to generate a sequence of numbers. \n",
    "\n",
    "Syntax:\n",
    "\n",
    "```python\n",
    "range(n)\n",
    "range(start_value, end_value, step_value)\n",
    "```\n",
    " \n",
    "The `end_value` is not included in the sequence of numbers. "
   ]
  },
  {
   "cell_type": "code",
   "execution_count": null,
   "metadata": {},
   "outputs": [],
   "source": [
    "for i in range(5):\n",
    "    print('This is regular range: ' + str(i))\n",
    "for j in range(12,16):\n",
    "    print('This is set range: '+ str(j))\n",
    "for k in range(0,12,2):\n",
    "    print('This is range with step 2: ' + str(k))\n",
    "for l in range(5,0,-1):\n",
    "    print('This is counting backwards: ' + str(l))"
   ]
  },
  {
   "cell_type": "markdown",
   "metadata": {},
   "source": [
    "### Importing Modules"
   ]
  },
  {
   "cell_type": "markdown",
   "metadata": {},
   "source": [
    "**Different Ways to Import Modules**\n",
    "\n",
    "Import a library and have access to all its methods using the dot operator:\n",
    "```python\n",
    "import random\n",
    "random.randint(1,10)\n",
    "```\n",
    "Import everything from a library, and not have to use the dot operator. *This one is less commonly used because it's harder to follow where the function is coming from*:\n",
    "```python\n",
    "from random import *\n",
    "randint(1,10)\n",
    "```\n",
    "Import multiple libraries at once:\n",
    "```python\n",
    "import random, sys, os, math\n",
    "```"
   ]
  },
  {
   "cell_type": "markdown",
   "metadata": {},
   "source": [
    "### Ending a Program Early with `sys.exit()`\n",
    "Terminates a program early. Here's an example:\n",
    "\n",
    "```python\n",
    "import sys\n",
    "\n",
    "while True:\n",
    "    print('Type exit to exit.')\n",
    "    response = input()\n",
    "    if response == 'exit':\n",
    "        sys.exit()\n",
    "    print('You typed ' + response + '.')\n",
    "```\n",
    "The program will terminate if you type 'exit', but will continue on to the print statement for anything else. "
   ]
  },
  {
   "cell_type": "markdown",
   "metadata": {},
   "source": [
    "### Functions"
   ]
  },
  {
   "cell_type": "markdown",
   "metadata": {},
   "source": [
    "**Keyword Arguments** (*kwargs*)\n",
    "\n",
    "You can set keyword arguments for the functions you make. The order of the arguments won't matter, because they would be key-value pairs. Here is an example from [w3schools](https://www.w3schools.com/python/gloss_python_function_keyword_arguments.asp):\n",
    "\n",
    "```python\n",
    "def my_function(child3, child2, child1):\n",
    "  print(\"The youngest child is \" + child3)\n",
    "\n",
    "my_function(child1 = \"Emil\", child2 = \"Tobias\", child3 = \"Linus\")\n",
    "```\n",
    "The output will stil be \"The youngest child is Linus\""
   ]
  },
  {
   "cell_type": "markdown",
   "metadata": {},
   "source": [
    "**Local and Global Variables**\n",
    "\n",
    "Local Variable - Any variable defined within a function\n",
    "Global Variable - Any variable defined outside of a function\n",
    "\n",
    "To make a change to a *global* variable from within a function (which normally only changes local variables), you have to include a line at the top of the function to specify this:\n",
    "\n",
    "```python\n",
    "def spam():\n",
    "    global eggs\n",
    "    eggs = 'Hello'\n",
    "    print(eggs)\n",
    "eggs = 42\n",
    "spam()\n",
    "print(eggs)\n",
    "```\n",
    "First, `eggs = 42`. When `spam()` is called, the global variable `eggs` gets updated to be `eggs = 'Hello'`. So the output would be: `'Hello'` twice. "
   ]
  },
  {
   "cell_type": "markdown",
   "metadata": {},
   "source": [
    "**Exception Handling**\n",
    "\n",
    "When a program comes across code that causes an error, the program will terminate right away because it doesn't know how to handle the error. To prevent this, use `try` and `except` statements to help the program understand how continue past these errors.\n",
    "\n",
    "```python\n",
    "def spam(divideBy):\n",
    "    try:\n",
    "        return 42/divideBy\n",
    "    except ZeroDivisionError:\n",
    "        print('Error: Invalid Argument')\n",
    "\n",
    "print(spam(2))\n",
    "print(spam(0))\n",
    "print(spam(3))\n",
    "```\n",
    "Now, instead of terminating the program when it encounters the `ZeroDivisionError`, it'll just handle it and move on to the next step of the program. \n",
    "\n",
    "Another example from this [Youtube Video](https://youtu.be/qS0UkqaYmfU?list=PL0-84-yl1fUnRuXGFe_F7qSH1LEnn9LkW&t=386) that shows what would happen if a user enters a string instead of an integer into this program:"
   ]
  },
  {
   "cell_type": "code",
   "execution_count": null,
   "metadata": {},
   "outputs": [],
   "source": [
    "print('How many cats do you have?')\n",
    "numCats = input()\n",
    "try:\n",
    "    if int(numCats) >= 4:\n",
    "        print('That is a lot of cats.')\n",
    "    else:\n",
    "        print('That is not that many cats')\n",
    "except ValueError:\n",
    "    print('You did not enter a number')"
   ]
  },
  {
   "cell_type": "markdown",
   "metadata": {},
   "source": [
    "## Guess the Number Game"
   ]
  },
  {
   "cell_type": "code",
   "execution_count": 1,
   "metadata": {
    "collapsed": true
   },
   "outputs": [
    {
     "name": "stdout",
     "output_type": "stream",
     "text": [
      "I am thinking of a number between 1 and 20\n",
      "Take a guess.\n",
      "15\n",
      "Your guess is too high.\n",
      "Take a guess.\n",
      "10\n",
      "Good job! You guessed my number in 2 guesses!\n"
     ]
    }
   ],
   "source": [
    "#This is a guess the number game\n",
    "import random\n",
    "secretNumber = random.randint(1,20)\n",
    "print('I am thinking of a number between 1 and 20')\n",
    "\n",
    "# Ask the player to guess 6 times\n",
    "for guessesTaken in range (1,7):\n",
    "    print('Take a guess.')\n",
    "    guess = int(input())\n",
    "    \n",
    "    if guess < secretNumber:\n",
    "        print('Your guess is too low.')\n",
    "    elif guess > secretNumber:\n",
    "        print('Your guess is too high.')\n",
    "    else:\n",
    "        break # This condition is the correct guess!\n",
    "        \n",
    "if guess == secretNumber:\n",
    "    print('Good job! You guessed my number in ' + str(guessesTaken) + ' guesses!')\n",
    "else:\n",
    "    print('Nope. The number I was thinking of was ' + str(secretNumber))"
   ]
  },
  {
   "cell_type": "markdown",
   "metadata": {},
   "source": [
    "\\*A modified version of this game that includes input validation with `try` and `except` statements is included in the github under the filename `3 - guessTheNumber.py`"
   ]
  },
  {
   "cell_type": "markdown",
   "metadata": {},
   "source": [
    "### Lists"
   ]
  },
  {
   "cell_type": "markdown",
   "metadata": {},
   "source": [
    "A list contains comma-separated values within brackets. These values can be of all different types. Lists are modified **in place**.\n",
    "\n",
    "```python\n",
    "spam = ['cat', 'bat', 'rat', 'gnat']\n",
    "```\n",
    "**Accessing List Values**\n",
    "\n",
    "Indices in Python start at 0. You can access a list using brackets: `spam[0]` will return `'cat'`. \n",
    "\n",
    "**List of Lists**\n",
    "\n",
    "List of lists can have different variable types.\n",
    "```python\n",
    "double_list = [['cat','bat'],[10,20,30,40,50]]\n",
    "```\n",
    "To access this list, you can use the same bracket notation: \n",
    "```python\n",
    "double_list[0] # returns ['cat','bat']\n",
    "\n",
    "double_list[0][1] # returns 'bat'\n",
    "\n",
    "double_list[1][3] # returns 40\n",
    "```\n",
    "**Negative Indices**\n",
    "\n",
    "Adding `[-1]` as an index refers to the last item in the list. \n",
    "```python\n",
    "spam[-1] #returns 'gnat'\n",
    "spam[-2] # returns 'rat'\n",
    "```\n",
    "\n",
    "**Slices**\n",
    "\n",
    "Slices can return multiple values, or slices, from a list. It uses bracket notation, but takes in two arguments separated by a colon.\n",
    "```python\n",
    "spam[1:3] #returns a brand new list: ['bat','rat']\n",
    "```\n",
    "As seen above, the slice includes indices \\[1,3) non inclusive. This means that it includes the indices starting from 1 and up to, but not including, 3.\n",
    "\n",
    "**Deleting Values from a List**\n",
    "\n",
    "Can delete values from a list using the `del` statement:\n",
    "```python\n",
    "spam = ['cat','bat','rat','gnat']\n",
    "\n",
    "# Delete a Value\n",
    "del spam[2] # returns ['cat','bat', 'gnat']\n",
    "\n",
    "# Remove the first instance of a specific variable\n",
    "spam.remove('bat') # returns ['cat, 'gnat']\n",
    "```"
   ]
  },
  {
   "cell_type": "markdown",
   "metadata": {},
   "source": [
    "**Lists and For Loops**\n",
    "\n",
    "A common use of lists is to implement them in a `for loop`. One way is to use `range(len(myList))` format to loop through all the items in a list. \n",
    "\n",
    "```python\n",
    "supplies = ['pens', 'staplers', 'paper', 'pencils']\n",
    "for i in range(len(supplies)):\n",
    "    print('Index ' + str(i) + ' in supplies is: ' + supplies[i])\n",
    "```\n",
    "\n",
    "**The `in` and `not in` Operators**\n",
    "\n",
    "Determine whether a value is or isn't in a list. \n",
    "\n",
    "```python\n",
    "spam = ['hello', 'hi', 'howdy','heya']\n",
    "'cat' in spam # Returns False\n",
    "'cat' not in spam # Returns True\n",
    "```\n",
    "\n",
    "**Multiple Assignments in Lists**\n",
    "\n",
    "You can assign multiple variables to multiple values in one line using multiple assignments. The number of variables must equal the length of the list or you will get a `ValueError`.\n",
    "\n",
    "```python\n",
    "cat = ['fat','orange','loud']\n",
    "size, color, disposition = cat\n",
    "\n",
    "# To perform a swap operation:\n",
    "a = 'AAA'\n",
    "b = 'BBB'\n",
    "a, b = b, a # returns a = 'BBB', and b = 'AAA'\n",
    "```"
   ]
  },
  {
   "cell_type": "markdown",
   "metadata": {},
   "source": [
    "### Methods"
   ]
  },
  {
   "cell_type": "markdown",
   "metadata": {},
   "source": [
    "Same as a function, except it's called on a value using the \"dot operator\". For example, `spam.index('hello')` will return the index of the string 'hello' within the list 'spam'. \n",
    "\n",
    "Each data type has its own set of methods.\n",
    "\n",
    "**List Methods (Not Exhaustive)**\n",
    "```python\n",
    "spam = ['hello', 'hi', 'howdy', 'heyas']\n",
    "\n",
    "# Index()\n",
    "spam.index('hello') # Returns 0\n",
    "# If there are duplicates within a list, then this method will only return the index of the first instance of it. \n",
    "\n",
    "# Append()\n",
    "spam.append('moose') # Returns ['hello', 'hi', 'howdy', 'heyas', 'moose']\n",
    "\n",
    "# Insert()\n",
    "spam.insert(1, 'chicken') # Returns ['hello', 'chicken', 'hi', 'howdy', 'heyas']\n",
    "# The first argument is the index at which you want the value of the second argument to be inserted to. \n",
    "\n",
    "# Sort()\n",
    "spam.sort() # Returns ['hello', 'heyas', 'hi', 'howdy']\n",
    "# Works with strings and integers, but not when the list is mixed \n",
    "```\n",
    "\n",
    "**Notice** that these methods do not reassign the list 'spam' to another variable every time we make a change (`spam = spam.append('moose')`). This is because it is modified *in place*."
   ]
  },
  {
   "cell_type": "markdown",
   "metadata": {},
   "source": [
    "### Mutable and Immutable Data Types"
   ]
  },
  {
   "cell_type": "markdown",
   "metadata": {},
   "source": [
    "**Mutable** - It can have values added, removed or changed. (Ex. lists, dictionary values)\n",
    "\n",
    "**Immutable** - Cannot be changed and must be assigned to a new variable or copy of the variable. (Ex. strings, integers, tuples)"
   ]
  },
  {
   "cell_type": "markdown",
   "metadata": {},
   "source": [
    "### Tuples"
   ]
  },
  {
   "cell_type": "markdown",
   "metadata": {},
   "source": [
    "Almost identical to lists, except:\n",
    "1. Tuples are typed with parentheses\n",
    "```python\n",
    "eggs = ('hello', 42, 0.5)\n",
    "eggs[0] # Returns 'hello'\n",
    "```\n",
    "2. Tuples are immutable. \n",
    "```python\n",
    "eggs = ('hello', 42, 0.5)\n",
    "eggs[1] = 99\n",
    "# Returns a TypeError: 'tuple' object does not support item assignment\n",
    "```\n",
    "You can use tuples to convey that you don't intend for the sequence of values to change. \n",
    "\n",
    "You can convert between lists and tuples using the `list()` and `tuple()` functions. "
   ]
  },
  {
   "cell_type": "markdown",
   "metadata": {},
   "source": [
    "### Function References"
   ]
  },
  {
   "cell_type": "markdown",
   "metadata": {},
   "source": [
    "Assigning a list to a variable actually only assigns a *reference* to the variable. It acts more like a pointer to where the list is, but doesn't act like a regular, assignable variable. Here's an example from pg 98:\n",
    "\n",
    "```python\n",
    "spam = [0, 1, 2, 3, 4, 5]\n",
    "cheese = spam # This doesn't create a new copy of the list like you would expect with a regular variable\n",
    "cheese[1] = 'Hello!'\n",
    "spam # Returns [0, 'Hello!', 2, 3, 4, 5]\n",
    "cheese # Returns [0, 'Hello!', 2, 3, 4, 5]\n",
    "```\n",
    "When making a change to 'cheese', you might've thought that you were editing a copy of the list, but since the two variable point to the same reference, any changes made to 'cheese' or 'spam' are made to the list that the reference is pointing to. Therefore, they are the same. \n",
    "\n",
    "Python uses references to store values of mutable data types. "
   ]
  },
  {
   "cell_type": "markdown",
   "metadata": {},
   "source": [
    "**Passing References**\n",
    "Because lists are modified *in place*, return values are not used when passing it as a function argument. \n",
    "\n",
    "```python\n",
    "def eggs(someParameter):\n",
    "    someParameter.append('Hello')\n",
    "    \n",
    "spam = [1, 2, 3]\n",
    "eggs(spam)\n",
    "print(spam)\n",
    "# Returns [1, 2, 3, 'Hello']\n",
    "```\n",
    "\n",
    "**Copy Module**\n",
    "If you want to modify a list, but not affect the original list or dictionary value, use the `copy` module which provides the `copy()` and `deepcopy()` functions. \n",
    "\n",
    "**`copy.copy()`** - Make a duplicate copy of a mutable value, not just a copy of a reference. \n",
    "```python\n",
    "import copy\n",
    "spam = ['a', 'b', 'c', 'd']\n",
    "cheese = copy.copy(spam)\n",
    "cheese[1] = 42\n",
    "spam # Returns ['a', 'b', 'c', 'd']\n",
    "cheese # Returns ['a', 42, 'c', d']\n",
    "```\n",
    "**`copy.deepcopy()`** - Does the same thing as `copy.copy()`, but is used when the list you need to copy contains sublists. `deepcopy()` will copy the inner lists as well. \n"
   ]
  },
  {
   "cell_type": "markdown",
   "metadata": {},
   "source": [
    "### Dictionaries and Structuring Data\n",
    "\n",
    "### Dictionary Data Type"
   ]
  },
  {
   "cell_type": "markdown",
   "metadata": {},
   "source": [
    "**Dictionary** - Collection of many values whose index can use many different data types (not just integers, like in lists). Unlike lists, dictionaries are unordered, so there is no \"first\" item in a dictionary.\n",
    "\n",
    "Indices for dictionaries are known as *key-value pairs* where the *key* is the index for the dictionary, and the *value* is the associated value. Here is an example of a dictionary called `myCat` with keys 'size', 'color', and 'disposition':\n",
    "\n",
    "```python\n",
    "myCat = {'size': 'fat', 'color': 'gray', 'disposition': 'loud'}\n",
    "```\n",
    "\n",
    "**Accessing Dictionary Values**\n",
    "\n",
    "Use bracket notation to specify the key, and the output will be the value. \n",
    "```python\n",
    "'My cat has ' + myCat['color'] + ' fur.'\n",
    "# Returns: 'My cat has gray fur'\n",
    "```\n",
    "\n",
    "**Dictionary Methods**\n",
    "\n",
    "**`keys()`, `values()`, `items()`**\n",
    "```python\n",
    "spam = {'color': 'red', 'age':42}\n",
    "# values()\n",
    "for v in spam.values():\n",
    "    print(v)\n",
    "# Returns: red, 42\n",
    "\n",
    "# keys()\n",
    "for k in spam.keys():\n",
    "    print(k)\n",
    "# Returns: color, age\n",
    "\n",
    "# items()\n",
    "for i in spam.items():\n",
    "    print(i)\n",
    "# Returns: ('color','red'); ('age', 42)\n",
    "```\n",
    "\n",
    "All of these methods will return `dict_values`, `dict_keys` or `dict_items` types. For a true list, use the `list()` function to change its type: `list(spam.keys())`.\n",
    "\n",
    "**`get()`** - Takes two arguments: key of the value to retrieve and a fallback value to return if that key doesn't exist. Ex: `spam.get('rank', 1)` means that if the key-value 'rank' exists in the dictionary, it'll return that value. Otherwise, if it doesn't exist, it'll return 1. "
   ]
  }
 ],
 "metadata": {
  "kernelspec": {
   "display_name": "Python 3",
   "language": "python",
   "name": "python3"
  },
  "language_info": {
   "codemirror_mode": {
    "name": "ipython",
    "version": 3
   },
   "file_extension": ".py",
   "mimetype": "text/x-python",
   "name": "python",
   "nbconvert_exporter": "python",
   "pygments_lexer": "ipython3",
   "version": "3.7.6"
  }
 },
 "nbformat": 4,
 "nbformat_minor": 4
}
